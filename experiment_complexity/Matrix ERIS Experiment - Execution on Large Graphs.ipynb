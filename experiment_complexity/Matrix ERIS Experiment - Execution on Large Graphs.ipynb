{
 "cells": [
  {
   "cell_type": "markdown",
   "id": "danish-rental",
   "metadata": {},
   "source": [
    "# Initialization\n",
    "**This section needs to be executed to execute the following cells.**"
   ]
  },
  {
   "cell_type": "markdown",
   "id": "arbitrary-glass",
   "metadata": {},
   "source": [
    "We use a simplified version of ERIS where the only metrics computed is the one \"shared\" by both ERIS and Guerra et al.'s method, that is the antagonism matrix."
   ]
  },
  {
   "cell_type": "code",
   "execution_count": 56,
   "id": "hidden-lesbian",
   "metadata": {
    "ExecuteTime": {
     "end_time": "2022-01-28T12:30:47.970281Z",
     "start_time": "2022-01-28T12:30:47.624Z"
    }
   },
   "outputs": [
    {
     "name": "stderr",
     "output_type": "stream",
     "text": [
      "Loading required package: ggplot2\n",
      "\n"
     ]
    }
   ],
   "source": [
    "source(\"eris_matrix_complexity_analysis.R\")\n",
    "source(\"eris_iterative_complexity_analysis.R\")\n",
    "\n",
    "if (!require(\"glue\")) install.packages(\"glue\"); library(glue)\n",
    "if (!require(\"ggplot2\")) install.packages(\"ggplot2\"); library(ggplot2)"
   ]
  },
  {
   "cell_type": "code",
   "execution_count": 63,
   "id": "nearby-hands",
   "metadata": {
    "ExecuteTime": {
     "end_time": "2022-01-28T12:56:38.238710Z",
     "start_time": "2022-01-28T12:56:38.213Z"
    }
   },
   "outputs": [],
   "source": [
    "community_algorithm <- cluster_louvain"
   ]
  },
  {
   "cell_type": "markdown",
   "id": "emotional-midwest",
   "metadata": {},
   "source": [
    "# Graph Generation\n",
    "**This section explains how the graphs were generated.**"
   ]
  },
  {
   "cell_type": "markdown",
   "id": "coordinated-scottish",
   "metadata": {},
   "source": [
    "## Parameters"
   ]
  },
  {
   "cell_type": "code",
   "execution_count": 11,
   "id": "social-currency",
   "metadata": {
    "ExecuteTime": {
     "end_time": "2022-01-28T10:18:37.856151Z",
     "start_time": "2022-01-28T10:17:34.735Z"
    }
   },
   "outputs": [],
   "source": [
    "nb_communities_in_graphs <- 3\n",
    "decreasing_step_edges <- 1000\n",
    "\n",
    "path_to_graphs <- \"graphs/\""
   ]
  },
  {
   "cell_type": "markdown",
   "id": "congressional-swaziland",
   "metadata": {},
   "source": [
    "## Method"
   ]
  },
  {
   "cell_type": "markdown",
   "id": "advised-butler",
   "metadata": {},
   "source": [
    "**Step 1:** The first graph used is built from real data harvested from Twitter."
   ]
  },
  {
   "cell_type": "code",
   "execution_count": 61,
   "id": "nervous-default",
   "metadata": {
    "ExecuteTime": {
     "end_time": "2022-01-28T12:34:15.030274Z",
     "start_time": "2022-01-28T12:33:36.591Z"
    }
   },
   "outputs": [
    {
     "name": "stdout",
     "output_type": "stream",
     "text": [
      "[1] \"Graph Loaded\"\n"
     ]
    }
   ],
   "source": [
    "g_rt <- read_graph(\"g_rt.gml\", \"gml\")\n",
    "print(\"Graph Loaded\")"
   ]
  },
  {
   "cell_type": "markdown",
   "id": "cordless-halifax",
   "metadata": {},
   "source": [
    "**Step 2**: We remove vertices to keep only users in the *nb_communities_in_graphs* most important communities."
   ]
  },
  {
   "cell_type": "code",
   "execution_count": 10,
   "id": "assisted-language",
   "metadata": {
    "ExecuteTime": {
     "end_time": "2022-01-28T10:18:37.837943Z",
     "start_time": "2022-01-28T10:16:57.706Z"
    }
   },
   "outputs": [],
   "source": [
    "res_community_detection <- as.undirected(g_rt, mode = \"collapse\") %>% community_algorithm()\n",
    "V(g_rt)$community <- membership(res_community_detection)\n",
    "g_rt <- delete_vertices(g_rt, \n",
    "                        V(g_rt)[which(!(V(g_rt)$community %in% \n",
    "                                        names(sort(sizes(res_community_detection), decreasing = TRUE)[1:nb_communities_in_graphs])))])"
   ]
  },
  {
   "cell_type": "markdown",
   "id": "amber-thing",
   "metadata": {},
   "source": [
    "**Step 3**: We serialize the first graph."
   ]
  },
  {
   "cell_type": "code",
   "execution_count": 13,
   "id": "satisfactory-leonard",
   "metadata": {
    "ExecuteTime": {
     "end_time": "2022-01-28T10:20:56.089929Z",
     "start_time": "2022-01-28T10:20:47.261Z"
    }
   },
   "outputs": [],
   "source": [
    "write_graph(g_rt, sprintf(\"%sg0_%s_%s.gml\", path_to_graphs, vcount(g_rt), ecount(g_rt)), \"gml\")"
   ]
  },
  {
   "cell_type": "markdown",
   "id": "average-chrome",
   "metadata": {},
   "source": [
    "**Step 4:** We reproduce the previous steps while reducing the graph size."
   ]
  },
  {
   "cell_type": "code",
   "execution_count": 14,
   "id": "light-combat",
   "metadata": {
    "ExecuteTime": {
     "end_time": "2022-01-28T10:31:32.923765Z",
     "start_time": "2022-01-28T10:29:18.153Z"
    }
   },
   "outputs": [],
   "source": [
    "g <- g_rt\n",
    "g_ecount <- ecount(g_rt)\n",
    "i <- 1\n",
    "while (g_ecount > decreasing_step_edges) {\n",
    "    # Reduce the graph size by removing edges and then isolated vertices.\n",
    "    g <- delete_edges(g, sample(E(g), decreasing_step_edges))\n",
    "    g <- delete.vertices(g, which(degree(g, V(g), mode = \"all\") == 0))\n",
    "    \n",
    "    # Reproduce steps 2 and 3.\n",
    "    res_community_detection <- as.undirected(g, mode = \"collapse\") %>% community_algorithm()\n",
    "    V(g)$community <- membership(res_community_detection)\n",
    "    g <- delete_vertices(g, \n",
    "                         V(g)[which(!(V(g)$community %in% \n",
    "                                        names(sort(sizes(res_community_detection), decreasing = TRUE)[1:nb_communities_in_graphs])))])\n",
    "    \n",
    "    g_ecount <- ecount(g)\n",
    "    write_graph(g, sprintf(\"%sg%s_%s_%s.gml\", path_to_graphs, i, vcount(g), g_ecount), \"gml\")\n",
    "    i <- i + 1\n",
    "} "
   ]
  },
  {
   "cell_type": "markdown",
   "id": "israeli-association",
   "metadata": {},
   "source": [
    "# Execution Time Measurement\n",
    "**This section explains how the execution times are measured.**"
   ]
  },
  {
   "cell_type": "code",
   "execution_count": 19,
   "id": "statistical-finger",
   "metadata": {
    "ExecuteTime": {
     "end_time": "2022-01-28T10:44:23.026672Z",
     "start_time": "2022-01-28T10:44:23.001Z"
    }
   },
   "outputs": [],
   "source": [
    "path_to_studied_graphs <- \"graphs_rcis/\"\n",
    "path_to_results <- \"times/\""
   ]
  },
  {
   "cell_type": "markdown",
   "id": "verbal-mount",
   "metadata": {},
   "source": [
    "**Step 1**: We load the graphs."
   ]
  },
  {
   "cell_type": "code",
   "execution_count": 16,
   "id": "global-mistake",
   "metadata": {
    "ExecuteTime": {
     "end_time": "2022-01-28T10:34:01.147313Z",
     "start_time": "2022-01-28T10:34:01.124Z"
    }
   },
   "outputs": [],
   "source": [
    "graph_files <- list.files(path_to_studied_graphs)"
   ]
  },
  {
   "cell_type": "markdown",
   "id": "connected-bearing",
   "metadata": {},
   "source": [
    "**Step 2:** Graphs are reordered according to their number of vertices."
   ]
  },
  {
   "cell_type": "code",
   "execution_count": 17,
   "id": "contained-treasury",
   "metadata": {
    "ExecuteTime": {
     "end_time": "2022-01-28T10:35:38.700263Z",
     "start_time": "2022-01-28T10:35:38.670Z"
    }
   },
   "outputs": [],
   "source": [
    "names(graph_files) <- as.numeric(unname(\n",
    "    sapply(graph_files, function(x) gsub(\"g\", \"\", unlist(strsplit(x, \"_\"))[[1]]))\n",
    "))\n",
    "graph_files <- graph_files[order(-as.numeric(names(graph_files)))]"
   ]
  },
  {
   "cell_type": "markdown",
   "id": "taken-destiny",
   "metadata": {},
   "source": [
    "**Step 3:** Execution times are measured."
   ]
  },
  {
   "cell_type": "code",
   "execution_count": 31,
   "id": "indian-ferry",
   "metadata": {
    "ExecuteTime": {
     "end_time": "2022-01-28T11:22:18.534707Z",
     "start_time": "2022-01-28T11:20:26.643Z"
    },
    "scrolled": true
   },
   "outputs": [
    {
     "data": {
      "text/plain": [
       "$`12`\n",
       "   user  system elapsed \n",
       "  0.033   0.000   0.033 \n",
       "\n",
       "$`11`\n",
       "   user  system elapsed \n",
       "  0.034   0.000   0.034 \n",
       "\n",
       "$`10`\n",
       "   user  system elapsed \n",
       "  0.035   0.000   0.035 \n",
       "\n",
       "$`9`\n",
       "   user  system elapsed \n",
       "  0.037   0.000   0.038 \n",
       "\n",
       "$`8`\n",
       "   user  system elapsed \n",
       "  0.062   0.000   0.061 \n",
       "\n",
       "$`7`\n",
       "   user  system elapsed \n",
       "  0.085   0.000   0.086 \n",
       "\n",
       "$`6`\n",
       "   user  system elapsed \n",
       "  0.112   0.000   0.113 \n",
       "\n",
       "$`5`\n",
       "   user  system elapsed \n",
       "  0.142   0.000   0.142 \n",
       "\n",
       "$`4`\n",
       "   user  system elapsed \n",
       "  0.194   0.000   0.194 \n",
       "\n",
       "$`3`\n",
       "   user  system elapsed \n",
       "  0.313   0.000   0.313 \n",
       "\n",
       "$`2`\n",
       "   user  system elapsed \n",
       "  0.805   0.000   0.805 \n",
       "\n",
       "$`1`\n",
       "   user  system elapsed \n",
       "  1.649   0.000   1.650 \n",
       "\n",
       "$`0`\n",
       "   user  system elapsed \n",
       "  2.369   0.036   2.406 \n"
      ]
     },
     "metadata": {},
     "output_type": "display_data"
    }
   ],
   "source": [
    "lapply(graph_files, function(file) {\n",
    "    g <- read_graph(paste(path_to_studied_graphs, file, sep = \"\"), \"gml\")\n",
    "    eris_parameters <- compute_polarization_metrics_graph(g)\n",
    "    time <- system.time(compute_polarization_metrics(eris_parameters$Ma, eris_parameters$Mc))\n",
    "    write.table(\n",
    "        t(data.frame(unname(time[1:3]))), \n",
    "        sprintf('%stimes_%s.csv', path_to_results, \"matrix_eris\"), \n",
    "        append = T, \n",
    "        sep = ';', \n",
    "        row.names = FALSE, \n",
    "        col.names = FALSE )\n",
    "    time\n",
    "})"
   ]
  },
  {
   "cell_type": "code",
   "execution_count": 37,
   "id": "ethical-america",
   "metadata": {
    "ExecuteTime": {
     "end_time": "2022-01-28T12:10:39.522017Z",
     "start_time": "2022-01-28T11:25:05.669Z"
    }
   },
   "outputs": [],
   "source": [
    "lapply(graph_files, function(file) {\n",
    "    g <- read_graph(paste(path_to_studied_graphs, file, sep = \"\"), \"gml\")\n",
    "    eris_parameters <- graph_polarization(g, V(g)$community)\n",
    "    time <- system.time(polarization(eris_parameters$adjacency_list, eris_parameters$community_membership, eris_parameters$adjacency_matrix))\n",
    "    write.table(\n",
    "        t(data.frame(unname(time[1:3]))), \n",
    "        sprintf('%stimes_%s.csv', path_to_results, \"iterative_eris\"), \n",
    "        append = T, \n",
    "        sep = ';', \n",
    "        row.names = FALSE, \n",
    "        col.names = FALSE )\n",
    "    time\n",
    "})"
   ]
  },
  {
   "cell_type": "markdown",
   "id": "executed-employee",
   "metadata": {},
   "source": [
    "# Results\n",
    "**This section generates vizualisations of the results.**"
   ]
  },
  {
   "cell_type": "code",
   "execution_count": 49,
   "id": "union-satin",
   "metadata": {
    "ExecuteTime": {
     "end_time": "2022-01-28T12:18:32.485057Z",
     "start_time": "2022-01-28T12:18:32.459Z"
    }
   },
   "outputs": [],
   "source": [
    "path_to_csv_results <- \"times_rcis/\""
   ]
  },
  {
   "cell_type": "markdown",
   "id": "present-iraqi",
   "metadata": {},
   "source": [
    "## Result Loading"
   ]
  },
  {
   "cell_type": "markdown",
   "id": "gorgeous-standing",
   "metadata": {},
   "source": [
    "We load the execution times of guerra et al.'s method and of the iterative version of ERIS."
   ]
  },
  {
   "cell_type": "code",
   "execution_count": 50,
   "id": "universal-adobe",
   "metadata": {
    "ExecuteTime": {
     "end_time": "2022-01-28T12:20:18.319518Z",
     "start_time": "2022-01-28T12:20:18.290Z"
    }
   },
   "outputs": [],
   "source": [
    "times_guerra <- read.csv(sprintf(\"%stimes_v0.csv\", path_to_csv_results), header = FALSE, sep = \";\")\n",
    "times_iterative <- read.csv(sprintf(\"%stimes_v1.csv\", path_to_csv_results), header = FALSE, sep = \";\")"
   ]
  },
  {
   "cell_type": "markdown",
   "id": "rough-novel",
   "metadata": {},
   "source": [
    "Same for the matrix computation based version of ERIS. We launched multiple analyzes to get mean values."
   ]
  },
  {
   "cell_type": "code",
   "execution_count": 51,
   "id": "driving-victory",
   "metadata": {
    "ExecuteTime": {
     "end_time": "2022-01-28T12:24:09.963643Z",
     "start_time": "2022-01-28T12:24:09.923Z"
    }
   },
   "outputs": [],
   "source": [
    "times_matrix1 <- read.csv(sprintf(\"%stimes_v2.csv\", path_to_csv_results), header = FALSE, sep = \";\")\n",
    "times_matrix2 <- read.csv(sprintf(\"%stimes_v2_2.csv\", path_to_csv_results), header = FALSE, sep = \";\")\n",
    "times_matrix3 <- read.csv(sprintf(\"%stimes_v2_3.csv\", path_to_csv_results), header = FALSE, sep = \";\")\n",
    "times_matrix4 <- read.csv(sprintf(\"%stimes_v2_4.csv\", path_to_csv_results), header = FALSE, sep = \";\")\n",
    "times_matrix5 <- read.csv(sprintf(\"%stimes_v2_5.csv\", path_to_csv_results), header = FALSE, sep = \";\")\n",
    "times_matrix6 <- read.csv(sprintf(\"%stimes_v2_6.csv\", path_to_csv_results), header = FALSE, sep = \";\")\n",
    "\n",
    "times_matrix <- data.frame(\n",
    "                V1 = rowMeans(cbind(times_matrix1$V1, times_matrix2$V1, times_matrix3$V1, times_matrix4$V1, times_matrix5$V1, times_matrix6$V1), na.rm=TRUE),\n",
    "                V2 = rowMeans(cbind(times_matrix1$V2, times_matrix2$V2, times_matrix3$V2, times_matrix4$V2, times_matrix5$V2, times_matrix6$V2), na.rm=TRUE),\n",
    "                V3 = rowMeans(cbind(times_matrix1$V3, times_matrix2$V3, times_matrix3$V3, times_matrix4$V3, times_matrix5$V3, times_matrix6$V3), na.rm=TRUE))"
   ]
  },
  {
   "cell_type": "code",
   "execution_count": 52,
   "id": "grateful-banner",
   "metadata": {
    "ExecuteTime": {
     "end_time": "2022-01-28T12:27:16.572991Z",
     "start_time": "2022-01-28T12:27:16.533Z"
    }
   },
   "outputs": [],
   "source": [
    "graphs_names <- list.files(path_to_studied_graphs)\n",
    "vcounts <- sort(as.numeric(unname(sapply(graphs_names, function(x) gsub(\".gml\", \"\", unlist(strsplit(x, \"_\"))[[2]])))))\n",
    "ecounts <- sort(as.numeric(unname(sapply(graphs_names, function(x) gsub(\".gml\", \"\", unlist(strsplit(x, \"_\"))[[3]])))))"
   ]
  },
  {
   "cell_type": "code",
   "execution_count": 54,
   "id": "blessed-necessity",
   "metadata": {
    "ExecuteTime": {
     "end_time": "2022-01-28T12:28:45.685939Z",
     "start_time": "2022-01-28T12:28:45.654Z"
    }
   },
   "outputs": [
    {
     "name": "stdout",
     "output_type": "stream",
     "text": [
      "   id vcount  ecount       guerra iterative     matrix\n",
      "1   1    684     681 1.539918e+00     0.052 0.04850000\n",
      "2   2   1669    1686 4.171216e+00     0.174 0.04200000\n",
      "3   3   2654    2710 7.307148e+00     0.269 0.03650000\n",
      "4   4   3912    4127 1.208863e+01     0.529 0.03800000\n",
      "5   5  20604   29390 2.056944e+02     4.105 0.06300000\n",
      "6   6  35516   74217 7.002338e+02     5.488 0.08583333\n",
      "7   7  53780  106975 1.558961e+03    10.472 0.11250000\n",
      "8   8  72054  159127 3.187851e+03    23.152 0.14433333\n",
      "9   9 106896  229541 7.549220e+03    54.381 0.22850000\n",
      "10 10 180981  433222 2.591778e+04   283.963 0.37933333\n",
      "11 11 373997 1164409 1.694701e+05  2900.432 0.83000000\n",
      "12 12 673887 2535423 7.555002e+05  9947.737 1.70100000\n",
      "13 13 904458 4427838 1.528389e+06 32070.872 2.56050000\n"
     ]
    }
   ],
   "source": [
    "times <- data.frame(\n",
    "    id = sequence(13), \n",
    "    vcount = vcounts, \n",
    "    ecount = ecounts, \n",
    "    guerra = times_guerra$V1, \n",
    "    iterative = times_iterative$V1, \n",
    "    matrix = times_matrix$V1)\n",
    "print(times)"
   ]
  },
  {
   "cell_type": "markdown",
   "id": "dominant-barrel",
   "metadata": {},
   "source": [
    "## Plots"
   ]
  },
  {
   "cell_type": "code",
   "execution_count": 57,
   "id": "painful-arbitration",
   "metadata": {
    "ExecuteTime": {
     "end_time": "2022-01-28T12:31:25.989838Z",
     "start_time": "2022-01-28T12:31:25.372Z"
    }
   },
   "outputs": [
    {
     "data": {
      "image/png": "[encoded data removed]",
      "text/plain": [
       "plot without title"
      ]
     },
     "metadata": {
      "image/png": {
       "height": 420,
       "width": 420
      }
     },
     "output_type": "display_data"
    }
   ],
   "source": [
    "no_scientific = function(x) format(x, scientific = FALSE)\n",
    "ggplot(times, aes(vcount)) + \n",
    "  geom_line(aes(y = guerra, group = 1, colour = \"Guerra et al.\")) + \n",
    "  geom_line(aes(y = iterative, group = 2, colour = \"Iterative ERIS\"), linetype=\"dotted\") +\n",
    "  geom_line(aes(y = matrix, group = 3, colour = \"Matrix ERIS\"), linetype=\"dashed\") +\n",
    "  scale_x_continuous(trans='log10', labels = no_scientific) +\n",
    "  scale_y_continuous(trans='log10', labels = no_scientific) +\n",
    "  ggtitle(\"Execution time according to the number of vertices in the graph\") +\n",
    "  xlab(\"Number of vertices\") + ylab(\"Execution time (in seconds)\") + labs(colour = \"Method\") +\n",
    "  theme_minimal(base_size=14) +\n",
    "  theme(plot.title = element_text(size = 15.5)) "
   ]
  },
  {
   "cell_type": "code",
   "execution_count": 60,
   "id": "illegal-american",
   "metadata": {
    "ExecuteTime": {
     "end_time": "2022-01-28T12:32:24.247305Z",
     "start_time": "2022-01-28T12:32:23.952Z"
    }
   },
   "outputs": [
    {
     "data": {
      "image/png": "[encoded data removed]",
      "text/plain": [
       "plot without title"
      ]
     },
     "metadata": {
      "image/png": {
       "height": 420,
       "width": 420
      }
     },
     "output_type": "display_data"
    }
   ],
   "source": [
    "ggplot(times, aes(x=vcount, y=matrix)) + \n",
    "  geom_line(aes(y = matrix), color=\"darkolivegreen\", linetype=\"dashed\") +\n",
    "  ggtitle(\"Execution time according to the number of vertices in the graph\") +\n",
    "  xlab(\"Number of vertices\") + ylab(\"Execution time (in seconds)\") + labs(colour = \"Method\")  +\n",
    "  theme_minimal(base_size=14) +\n",
    "  theme(plot.title = element_text(size = 15.5)) "
   ]
  }
 ],
 "metadata": {
  "kernelspec": {
   "display_name": "R",
   "language": "R",
   "name": "ir"
  },
  "language_info": {
   "codemirror_mode": "r",
   "file_extension": ".r",
   "mimetype": "text/x-r-source",
   "name": "R",
   "pygments_lexer": "r",
   "version": "3.5.1"
  },
  "toc": {
   "base_numbering": 1,
   "nav_menu": {},
   "number_sections": true,
   "sideBar": true,
   "skip_h1_title": false,
   "title_cell": "Table of Contents",
   "title_sidebar": "Contents",
   "toc_cell": false,
   "toc_position": {},
   "toc_section_display": true,
   "toc_window_display": true
  }
 },
 "nbformat": 4,
 "nbformat_minor": 5
}
